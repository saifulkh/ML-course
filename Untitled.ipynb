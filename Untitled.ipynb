{
 "cells": [
  {
   "cell_type": "code",
   "execution_count": 1,
   "id": "4df7a02e",
   "metadata": {},
   "outputs": [
    {
     "name": "stdout",
     "output_type": "stream",
     "text": [
      "abbas\n"
     ]
    }
   ],
   "source": [
    "print(\"abbas\")"
   ]
  },
  {
   "cell_type": "code",
   "execution_count": 2,
   "id": "9390bb8f",
   "metadata": {},
   "outputs": [
    {
     "name": "stdout",
     "output_type": "stream",
     "text": [
      "ami kisu pari na haire\n"
     ]
    }
   ],
   "source": [
    "print(\"ami kisu pari na haire\")"
   ]
  },
  {
   "cell_type": "code",
   "execution_count": 3,
   "id": "8ab2dad2",
   "metadata": {},
   "outputs": [
    {
     "ename": "NameError",
     "evalue": "name 'abbas' is not defined",
     "output_type": "error",
     "traceback": [
      "\u001b[1;31m---------------------------------------------------------------------------\u001b[0m",
      "\u001b[1;31mNameError\u001b[0m                                 Traceback (most recent call last)",
      "Cell \u001b[1;32mIn[3], line 1\u001b[0m\n\u001b[1;32m----> 1\u001b[0m \u001b[43mabbas\u001b[49m\n",
      "\u001b[1;31mNameError\u001b[0m: name 'abbas' is not defined"
     ]
    }
   ],
   "source": []
  },
  {
   "cell_type": "code",
   "execution_count": 1,
   "id": "8f476cd2",
   "metadata": {},
   "outputs": [
    {
     "name": "stdout",
     "output_type": "stream",
     "text": [
      "Defaulting to user installation because normal site-packages is not writeable\n",
      "Collecting basemap\n",
      "  Downloading basemap-1.3.7-cp310-cp310-win_amd64.whl (487 kB)\n",
      "     -------------------------------------- 487.2/487.2 kB 1.4 MB/s eta 0:00:00\n",
      "Requirement already satisfied: matplotlib<3.8,>=1.5 in c:\\programdata\\anaconda3\\lib\\site-packages (from basemap) (3.7.0)\n",
      "Collecting pyproj<3.6.0,>=1.9.3\n",
      "  Downloading pyproj-3.5.0-cp310-cp310-win_amd64.whl (5.1 MB)\n",
      "     ---------------------------------------- 5.1/5.1 MB 1.7 MB/s eta 0:00:00\n",
      "Collecting pyshp<2.4,>=1.2\n",
      "  Downloading pyshp-2.3.1-py2.py3-none-any.whl (46 kB)\n",
      "     ---------------------------------------- 46.5/46.5 kB 2.3 MB/s eta 0:00:00\n",
      "Requirement already satisfied: numpy<1.25,>=1.22 in c:\\programdata\\anaconda3\\lib\\site-packages (from basemap) (1.23.5)\n",
      "Collecting basemap-data<1.4,>=1.3.2\n",
      "  Downloading basemap_data-1.3.2-py2.py3-none-any.whl (30.5 MB)\n",
      "     ---------------------------------------- 30.5/30.5 MB 1.5 MB/s eta 0:00:00\n",
      "Requirement already satisfied: packaging>=20.0 in c:\\programdata\\anaconda3\\lib\\site-packages (from matplotlib<3.8,>=1.5->basemap) (22.0)\n",
      "Requirement already satisfied: python-dateutil>=2.7 in c:\\programdata\\anaconda3\\lib\\site-packages (from matplotlib<3.8,>=1.5->basemap) (2.8.2)\n",
      "Requirement already satisfied: contourpy>=1.0.1 in c:\\programdata\\anaconda3\\lib\\site-packages (from matplotlib<3.8,>=1.5->basemap) (1.0.5)\n",
      "Requirement already satisfied: pyparsing>=2.3.1 in c:\\programdata\\anaconda3\\lib\\site-packages (from matplotlib<3.8,>=1.5->basemap) (3.0.9)\n",
      "Requirement already satisfied: cycler>=0.10 in c:\\programdata\\anaconda3\\lib\\site-packages (from matplotlib<3.8,>=1.5->basemap) (0.11.0)\n",
      "Requirement already satisfied: pillow>=6.2.0 in c:\\programdata\\anaconda3\\lib\\site-packages (from matplotlib<3.8,>=1.5->basemap) (9.4.0)\n",
      "Requirement already satisfied: kiwisolver>=1.0.1 in c:\\programdata\\anaconda3\\lib\\site-packages (from matplotlib<3.8,>=1.5->basemap) (1.4.4)\n",
      "Requirement already satisfied: fonttools>=4.22.0 in c:\\programdata\\anaconda3\\lib\\site-packages (from matplotlib<3.8,>=1.5->basemap) (4.25.0)\n",
      "Requirement already satisfied: certifi in c:\\programdata\\anaconda3\\lib\\site-packages (from pyproj<3.6.0,>=1.9.3->basemap) (2022.12.7)\n",
      "Requirement already satisfied: six>=1.5 in c:\\programdata\\anaconda3\\lib\\site-packages (from python-dateutil>=2.7->matplotlib<3.8,>=1.5->basemap) (1.16.0)\n",
      "Installing collected packages: pyshp, pyproj, basemap-data, basemap\n",
      "Successfully installed basemap-1.3.7 basemap-data-1.3.2 pyproj-3.5.0 pyshp-2.3.1\n"
     ]
    },
    {
     "name": "stderr",
     "output_type": "stream",
     "text": [
      "  WARNING: The script pyproj.exe is installed in 'C:\\Users\\Abbas Ali Khan\\AppData\\Roaming\\Python\\Python310\\Scripts' which is not on PATH.\n",
      "  Consider adding this directory to PATH or, if you prefer to suppress this warning, use --no-warn-script-location.\n"
     ]
    }
   ],
   "source": [
    "!pip install basemap"
   ]
  },
  {
   "cell_type": "code",
   "execution_count": 2,
   "id": "74c1642f",
   "metadata": {},
   "outputs": [
    {
     "ename": "ModuleNotFoundError",
     "evalue": "No module named 'mpl_toolkits.basemap'",
     "output_type": "error",
     "traceback": [
      "\u001b[1;31m---------------------------------------------------------------------------\u001b[0m",
      "\u001b[1;31mModuleNotFoundError\u001b[0m                       Traceback (most recent call last)",
      "Cell \u001b[1;32mIn[2], line 1\u001b[0m\n\u001b[1;32m----> 1\u001b[0m \u001b[38;5;28;01mfrom\u001b[39;00m \u001b[38;5;21;01mmpl_toolkits\u001b[39;00m\u001b[38;5;21;01m.\u001b[39;00m\u001b[38;5;21;01mbasemap\u001b[39;00m \u001b[38;5;28;01mimport\u001b[39;00m Basemap\n",
      "\u001b[1;31mModuleNotFoundError\u001b[0m: No module named 'mpl_toolkits.basemap'"
     ]
    }
   ],
   "source": [
    "from mpl_toolkits.basemap import Basemap"
   ]
  },
  {
   "cell_type": "code",
   "execution_count": null,
   "id": "dee71f99",
   "metadata": {},
   "outputs": [],
   "source": []
  }
 ],
 "metadata": {
  "kernelspec": {
   "display_name": "Python 3 (ipykernel)",
   "language": "python",
   "name": "python3"
  },
  "language_info": {
   "codemirror_mode": {
    "name": "ipython",
    "version": 3
   },
   "file_extension": ".py",
   "mimetype": "text/x-python",
   "name": "python",
   "nbconvert_exporter": "python",
   "pygments_lexer": "ipython3",
   "version": "3.10.9"
  }
 },
 "nbformat": 4,
 "nbformat_minor": 5
}
